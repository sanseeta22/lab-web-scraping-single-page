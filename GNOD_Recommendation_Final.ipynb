{
 "cells": [
  {
   "cell_type": "markdown",
   "id": "ae77d500-53aa-4061-a720-82a9f6498eaa",
   "metadata": {},
   "source": [
    "# Final Part - Building recommendation to a song\n"
   ]
  },
  {
   "cell_type": "code",
   "execution_count": 37,
   "id": "e426bd80-3d81-4455-93fd-a3cc6971748a",
   "metadata": {},
   "outputs": [],
   "source": [
    " #importing libraries\n",
    "import pandas as pd\n",
    "from pandas import json_normalize\n",
    "import spotipy \n",
    "from spotipy.oauth2 import SpotifyClientCredentials\n",
    "import pickle\n",
    "import joblib\n",
    "from sklearn.preprocessing import StandardScaler\n",
    "import warnings\n",
    "warnings.filterwarnings(\"ignore\", message=\"X has feature names, but KMeans was fitted without feature names\")\n"
   ]
  },
  {
   "cell_type": "code",
   "execution_count": 38,
   "id": "5ac11413-d691-4b86-b996-5f6b708d453b",
   "metadata": {},
   "outputs": [],
   "source": [
    "#Importing the top 100 song playlist and larger set of songs with the audio features\n",
    "\n",
    "top100_df = pd.read_csv('top_hot_songs.csv')\n",
    "larger_set_songs= pd.read_csv('clustered_songs.csv')"
   ]
  },
  {
   "cell_type": "code",
   "execution_count": 39,
   "id": "f93231e0-b355-4d03-a3ab-a28393d25d45",
   "metadata": {},
   "outputs": [
    {
     "name": "stdout",
     "output_type": "stream",
     "text": [
      "Hey, want some music recommendations? I'm here to help!\n"
     ]
    },
    {
     "name": "stdin",
     "output_type": "stream",
     "text": [
      "Enter a song title:  gangnam style\n",
      "Enter the name of the artist:  psy\n"
     ]
    },
    {
     "name": "stdout",
     "output_type": "stream",
     "text": [
      "You should check out:\n",
      "My Shot  by  Anthony Ramos\n"
     ]
    }
   ],
   "source": [
    "import numpy as np\n",
    "# Load Spotify credentials\n",
    "secrets_file = open(\"secrets.txt\", \"r\")\n",
    "string = secrets_file.read()\n",
    "\n",
    "secrets_dict = {}\n",
    "for line in string.split('\\n'):\n",
    "    if len(line) > 0:\n",
    "        secrets_dict[line.split(':')[0]] = line.split(':')[1].strip()\n",
    "\n",
    "sp = spotipy.Spotify(auth_manager=SpotifyClientCredentials(client_id=secrets_dict['clientid'],   # Set up the Spotify API client\n",
    "                                                           client_secret=secrets_dict['clientsecret']))\n",
    "\n",
    "# User input\n",
    "print(\"Hey, want some music recommendations? I'm here to help!\")\n",
    "song = input(\"Enter a song title: \").strip().lower()\n",
    "artist = input(\"Enter the name of the artist: \").strip().lower()\n",
    "\n",
    "# Search for user input song\n",
    "user_result = sp.search(artist + \" \" + song, type=\"track\", limit=5)  # Increase limit for more search results\n",
    "tracks = json_normalize(user_result[\"tracks\"][\"items\"])\n",
    "\n",
    "if not tracks.empty: # Check if search results are not empty\n",
    "    \n",
    "    match_found = False # Initialize a variable to track if a match is found\n",
    "    \n",
    "    for index, track in tracks.iterrows(): # Iterate over each track in the search results\n",
    "        \n",
    "        searched_song = track['name'].lower()\n",
    "        searched_artist = track['artists'][0]['name'].lower()\n",
    "\n",
    "        # Check if the searched song and artist match the details of any track\n",
    "        if searched_song == song.lower() and searched_artist == artist.lower():\n",
    "            match_found = True\n",
    "            if (song in top100_df['title'].str.lower().values) and (artist in top100_df['artist'].str.lower().values):\n",
    "                random = top100_df.sample() # Select a random row from the top 100 DataFrame\n",
    "                random_result = sp.search(q=f\"artist:{random['artist'].values[0]} track:{random['title'].values[0]}\", type=\"track\", limit=1)\n",
    "                random_song = json_normalize(random_result[\"tracks\"][\"items\"]) # Normalize the search results into a DataFrame\n",
    "                print(\"Check out this hot song: \")\n",
    "                print(random['title'].values[0], ' by ', random['artist'].values[0]) # Print the recommended song and artist\n",
    "            else:\n",
    "                # Extract audio features of the song from Spotify\n",
    "                audio_features_list = sp.audio_features(tracks['id'][index])\n",
    "                audio_features_df = json_normalize(audio_features_list)\n",
    "                popularity_features_df = pd.concat([tracks[\"popularity\"], audio_features_df], axis=1) # Concatenate the popularity feature with the audio features\n",
    "                \n",
    "                # Filter out non-numerical features\n",
    "                numerical_features = popularity_features_df.select_dtypes(include=[np.number])\n",
    "                \n",
    "                # Identify missing values\n",
    "                missing_values = numerical_features.isnull().sum()\n",
    "\n",
    "                # Handle missing values by imputing with mean\n",
    "                numerical_features.fillna(numerical_features.mean(), inplace=True)\n",
    "               \n",
    "                # Scale and predict cluster\n",
    "                scale = pickle.load(open('scaler_model.pkl','rb')) # Load the scaler model\n",
    "                num_scaled = scale.transform(numerical_features)\n",
    "                data_scaled = pd.DataFrame(num_scaled, columns=numerical_features.columns)\n",
    "                \n",
    "                # Predict cluster using the clustering model\n",
    "                model = pickle.load(open('clustering_model.pkl','rb')) # Load the clustering model\n",
    "                user_cluster = model.predict(data_scaled)[0] # Predict the cluster for the user input song\n",
    "                \n",
    "                # Recommend a random song from the same cluster\n",
    "                songs_cluster = larger_set_songs[larger_set_songs[\"cluster\"]==user_cluster] # Select songs from the same cluster\n",
    "                random = songs_cluster.sample()  # Select a random song from the cluster\n",
    "                print(\"You should check out:\")\n",
    "                print(random['song_name'].values[0], ' by ', random['name'].values[0])  # Print the recommended song and artist\n",
    "            break  # Exit loop after finding a match\n",
    "\n",
    "    if not match_found:  # If no match is found\n",
    "        print(\"Sorry, the entered song could not be found or does not match the artist.\")\n",
    "else: # If search results are empty\n",
    "    print(\"Sorry, no search results found for the entered song.\")\n"
   ]
  },
  {
   "cell_type": "code",
   "execution_count": null,
   "id": "14bf401d-03ee-4b2c-b7b6-ac4a66ef2a90",
   "metadata": {},
   "outputs": [],
   "source": []
  },
  {
   "cell_type": "code",
   "execution_count": null,
   "id": "1c157025-50d0-4cdc-937a-8601e720cc88",
   "metadata": {},
   "outputs": [],
   "source": []
  }
 ],
 "metadata": {
  "kernelspec": {
   "display_name": "Python 3 (ipykernel)",
   "language": "python",
   "name": "python3"
  },
  "language_info": {
   "codemirror_mode": {
    "name": "ipython",
    "version": 3
   },
   "file_extension": ".py",
   "mimetype": "text/x-python",
   "name": "python",
   "nbconvert_exporter": "python",
   "pygments_lexer": "ipython3",
   "version": "3.11.7"
  }
 },
 "nbformat": 4,
 "nbformat_minor": 5
}
