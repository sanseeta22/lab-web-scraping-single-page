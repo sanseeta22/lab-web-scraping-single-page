{
 "cells": [
  {
   "cell_type": "code",
   "execution_count": 1,
   "id": "37e9fbae-230d-43f5-82e4-f6c0093bf245",
   "metadata": {},
   "outputs": [],
   "source": [
    "from bs4 import BeautifulSoup\n",
    "import requests\n",
    "import pandas as pd\n"
   ]
  },
  {
   "cell_type": "markdown",
   "id": "e6377f42-0f9c-412a-9303-957160b996df",
   "metadata": {},
   "source": [
    "# lab-web-scraping-single-page"
   ]
  },
  {
   "cell_type": "code",
   "execution_count": 2,
   "id": "6cfdaf22-e06b-4e49-92ba-40f4e4a04415",
   "metadata": {},
   "outputs": [],
   "source": [
    "# URL of the page containing the top 100 songs\n",
    "url = \"http://www.popvortex.com/music/charts/top-100-songs.php\"\n",
    "\n",
    "# Send a GET request to the URL\n",
    "response = requests.get(url)\n",
    "\n"
   ]
  },
  {
   "cell_type": "code",
   "execution_count": 3,
   "id": "d1421377-f35a-48a4-ae44-d28db9988af0",
   "metadata": {},
   "outputs": [],
   "source": [
    "#parse html (create the 'soup')\n",
    "soup = BeautifulSoup(response.content, \"html.parser\")"
   ]
  },
  {
   "cell_type": "code",
   "execution_count": 4,
   "id": "b960243e-512c-4d90-8af1-c0ef673ea17e",
   "metadata": {},
   "outputs": [],
   "source": [
    "# retrieve/extract the top100 songs genral chart (using the top100 songs \"Selector\")\n",
    "top100=soup.select(\"body > div.container > div:nth-child(4) > div.col-xs-12.col-md-8 > div.chart-wrapper\")\n"
   ]
  },
  {
   "cell_type": "code",
   "execution_count": 9,
   "id": "707b75ab-3982-46ac-bf0f-0312cf038f10",
   "metadata": {},
   "outputs": [
    {
     "name": "stdout",
     "output_type": "stream",
     "text": [
      "['I Had Some Help (feat. Morgan Wallen)', 'A Bar Song (Tipsy)', 'Come back to me', 'I Had Some Help (feat. Morgan Wallen)', 'Not Like Us', \"HIND'S HALL\", 'Stargazing', 'Lose Control', 'Lose My Breath', 'Feel Like Hell Today', 'Come back to me (Radio Edit)', 'Heartbreak Summer', 'MILLION DOLLAR BABY', 'Ronald', 'Miles On It', 'Too Sweet', 'euphoria', 'Beautiful Things', 'BOA', 'Beautiful As You', 'Come back to me', 'Espresso', 'A Bar Song (Tipsy)', 'meet the grahams', 'Lose My Breath (Instrumental)', 'Fortnight (feat. Post Malone)', 'Cab In A Solo', 'Where That Came From', 'I Can Do It With a Broken Heart', 'Like That', 'Jelly (feat. 2Rare) [Remix]', \"I Can't\", 'Troubles', 'Technicolor Honeymoon', 'Austin', 'The Door', 'Cab In A Solo', 'Cowgirls (feat. ERNEST)', 'Live Like You Were Dying', 'Family Matters', 'Save Me (with Lainey Wilson)', 'BOA', 'Training Season', 'Who’s Afraid of Little Old Me?', 'Halfway To Hell', 'Take It All Back', 'i like the way you kiss me', 'Where the Wild Things Are', 'Lil Boo Thang', 'Can You Hear Me', \"we can't be friends (wait for your love)\", 'Dirt Cheap', 'Wondering Why', 'A Country Boy Can Survive', 'Slow It Down', 'TRUCK BED', 'GOOD DAY', 'Last Night', 'Stick Season', 'Need a Favor', 'Save Me', 'The Sound of Silence (CYRIL Remix)', 'Down Bad', 'Wildflowers and Wild Horses (Single Version)', 'Illusion', 'Austin', 'Not Today', 'Here Comes the Hotstepper (Heartical Mix)', 'HE KNOWS (feat. Lil Nas X)', \"TEXAS HOLD 'EM\", 'Bulletproof', 'Wine Into Whiskey', 'Push Ups', 'GO HOME W U', 'Houdini', 'Thinkin’ Bout Me', 'Cruel Summer', 'Lovin On Me', 'Flowers', 'Beautiful Things', 'Hard to Love', 'I Remember Everything (feat. Kacey Musgraves)', 'Praise (feat. Brandon Lake, Chris Brown & Chandler Moore)', 'Death Wish', 'Fast Car', 'White Horse', 'Let Your Boys Be Country', 'Worst Way', 'Unwritten', 'Hurricane', 'A Symptom Of Being Human', 'Hammer to the Heart', 'II MOST WANTED', 'Devil You Know', 'Fireside', 'Made For Me', 'Home', 'Buttons', 'Tennessee Whiskey', 'Wanna Be']\n",
      "['Post Malone', 'Shaboozey', 'RM', 'Post Malone', 'Kendrick Lamar', 'Macklemore', 'Myles Smith', 'Teddy Swims', 'Stray Kids & Charlie Puth', 'Cooper Alan', 'RM', 'Whitney Wren', 'Tommy Richman', 'Falling In Reverse, Tech N9ne & Alex Terrible', 'Marshmello & Kane Brown', 'Hozier', 'Kendrick Lamar', 'Benson Boone', 'Megan Thee Stallion', 'Thomas Rhett', 'RM', 'Sabrina Carpenter', 'Shaboozey', 'Kendrick Lamar', 'Stray Kids & Charlie Puth', 'Taylor Swift', 'Scotty McCreery', 'Randy Travis', 'Taylor Swift', 'Future, Metro Boomin & Kendrick Lamar', 'DreamDoll', 'Reba McEntire', 'Ren', 'Maisy Kay', 'Dasha', 'Teddy Swims', 'Scotty McCreery', 'Morgan Wallen', 'Tim McGraw', 'Drake', 'Jelly Roll', 'Megan Thee Stallion', 'Dua Lipa', 'Taylor Swift', 'Jelly Roll', 'Tauren Wells, We The Kingdom & Davies', 'Artemas', 'Luke Combs', 'Paul Russell', 'Zhang Zhe Han', 'Ariana Grande', 'Cody Johnson', 'The Red Clay Strays', 'Hank Williams, Jr.', 'Benson Boone', 'HARDY', 'Forrest Frank', 'Morgan Wallen', 'Noah Kahan', 'Jelly Roll', 'Jelly Roll', 'Disturbed', 'Taylor Swift', 'Lainey Wilson', 'Dua Lipa', 'Dasha', 'Mitchell Tenpenny', 'Ini Kamoze', 'Camila Cabello', 'Beyoncé', 'Nate Smith', 'Tucker Wetmore', 'Drake', 'Keith Urban & Lainey Wilson', 'Dua Lipa', 'Morgan Wallen', 'Taylor Swift', 'Jack Harlow', 'Miley Cyrus', 'Benson Boone', 'Lee Brice', 'Zach Bryan', 'Elevation Worship', 'Royale Lynn & Danny Worsnop', 'Luke Combs', 'Chris Stapleton', 'Jason Aldean', 'Riley Green', 'Natasha Bedingfield', 'Eden Golan', 'Shinedown', 'Teddy Swims', 'Beyoncé & Miley Cyrus', 'Tyler Braden', 'Chase Rice', 'Muni Long', 'Good Neighbours', 'The Pussycat Dolls', 'Chris Stapleton', 'GloRilla & Megan Thee Stallion']\n"
     ]
    }
   ],
   "source": [
    "# from the general chart, extracting the title and artist of each songs and storing them into lists\n",
    "title=[]\n",
    "artist=[]\n",
    "for l in top100:\n",
    "    for t in l.select(\".title\"):\n",
    "        title.append(t.get_text())\n",
    "    for a in l.select(\".artist\"):\n",
    "        artist.append(a.get_text())\n",
    "print(title)\n",
    "print(artist)"
   ]
  },
  {
   "cell_type": "code",
   "execution_count": 10,
   "id": "e79bb349-f03e-4533-a520-e84c020b3802",
   "metadata": {},
   "outputs": [
    {
     "data": {
      "text/html": [
       "<div>\n",
       "<style scoped>\n",
       "    .dataframe tbody tr th:only-of-type {\n",
       "        vertical-align: middle;\n",
       "    }\n",
       "\n",
       "    .dataframe tbody tr th {\n",
       "        vertical-align: top;\n",
       "    }\n",
       "\n",
       "    .dataframe thead th {\n",
       "        text-align: right;\n",
       "    }\n",
       "</style>\n",
       "<table border=\"1\" class=\"dataframe\">\n",
       "  <thead>\n",
       "    <tr style=\"text-align: right;\">\n",
       "      <th></th>\n",
       "      <th>title</th>\n",
       "      <th>artist</th>\n",
       "    </tr>\n",
       "  </thead>\n",
       "  <tbody>\n",
       "    <tr>\n",
       "      <th>0</th>\n",
       "      <td>I Had Some Help (feat. Morgan Wallen)</td>\n",
       "      <td>Post Malone</td>\n",
       "    </tr>\n",
       "    <tr>\n",
       "      <th>1</th>\n",
       "      <td>A Bar Song (Tipsy)</td>\n",
       "      <td>Shaboozey</td>\n",
       "    </tr>\n",
       "    <tr>\n",
       "      <th>2</th>\n",
       "      <td>Come back to me</td>\n",
       "      <td>RM</td>\n",
       "    </tr>\n",
       "    <tr>\n",
       "      <th>3</th>\n",
       "      <td>I Had Some Help (feat. Morgan Wallen)</td>\n",
       "      <td>Post Malone</td>\n",
       "    </tr>\n",
       "    <tr>\n",
       "      <th>4</th>\n",
       "      <td>Not Like Us</td>\n",
       "      <td>Kendrick Lamar</td>\n",
       "    </tr>\n",
       "    <tr>\n",
       "      <th>...</th>\n",
       "      <td>...</td>\n",
       "      <td>...</td>\n",
       "    </tr>\n",
       "    <tr>\n",
       "      <th>95</th>\n",
       "      <td>Made For Me</td>\n",
       "      <td>Muni Long</td>\n",
       "    </tr>\n",
       "    <tr>\n",
       "      <th>96</th>\n",
       "      <td>Home</td>\n",
       "      <td>Good Neighbours</td>\n",
       "    </tr>\n",
       "    <tr>\n",
       "      <th>97</th>\n",
       "      <td>Buttons</td>\n",
       "      <td>The Pussycat Dolls</td>\n",
       "    </tr>\n",
       "    <tr>\n",
       "      <th>98</th>\n",
       "      <td>Tennessee Whiskey</td>\n",
       "      <td>Chris Stapleton</td>\n",
       "    </tr>\n",
       "    <tr>\n",
       "      <th>99</th>\n",
       "      <td>Wanna Be</td>\n",
       "      <td>GloRilla &amp; Megan Thee Stallion</td>\n",
       "    </tr>\n",
       "  </tbody>\n",
       "</table>\n",
       "<p>100 rows × 2 columns</p>\n",
       "</div>"
      ],
      "text/plain": [
       "                                    title                          artist\n",
       "0   I Had Some Help (feat. Morgan Wallen)                     Post Malone\n",
       "1                      A Bar Song (Tipsy)                       Shaboozey\n",
       "2                         Come back to me                              RM\n",
       "3   I Had Some Help (feat. Morgan Wallen)                     Post Malone\n",
       "4                             Not Like Us                  Kendrick Lamar\n",
       "..                                    ...                             ...\n",
       "95                            Made For Me                       Muni Long\n",
       "96                                   Home                 Good Neighbours\n",
       "97                                Buttons              The Pussycat Dolls\n",
       "98                      Tennessee Whiskey                 Chris Stapleton\n",
       "99                               Wanna Be  GloRilla & Megan Thee Stallion\n",
       "\n",
       "[100 rows x 2 columns]"
      ]
     },
     "execution_count": 10,
     "metadata": {},
     "output_type": "execute_result"
    }
   ],
   "source": [
    "# combining the lists into a dataframe\n",
    "top100_df = pd.DataFrame({\"title\":title, \"artist\":artist})\n",
    "top100_df"
   ]
  },
  {
   "cell_type": "markdown",
   "id": "90bc6e57-9763-446d-8d98-2d07f8483d98",
   "metadata": {},
   "source": [
    "# lab-web-scraping-multiple-pages"
   ]
  },
  {
   "cell_type": "markdown",
   "id": "6b6e2ed7-7bcd-4fd8-a5f5-f8d72738dbab",
   "metadata": {},
   "source": [
    "# Recommendation"
   ]
  },
  {
   "cell_type": "code",
   "execution_count": 18,
   "id": "0fc7481c-79b4-44c1-9441-c125da5ab5f5",
   "metadata": {},
   "outputs": [
    {
     "name": "stdin",
     "output_type": "stream",
     "text": [
      "Enter a song:  Made For Me\n"
     ]
    },
    {
     "name": "stdout",
     "output_type": "stream",
     "text": [
      "Recommended Song:\n",
      "I Had Some Help (feat. Morgan Wallen)  by  Post Malone\n"
     ]
    }
   ],
   "source": [
    "#recommending a song\n",
    "def recommend_song(input_song, top_charts):\n",
    "    # Check if the input song is in the top charts\n",
    "    if input_song in top_charts['title'].values:\n",
    "        # Recommend another song from the top charts\n",
    "        recommendation = top_charts[top_charts['title'] != input_song].iloc[0]\n",
    "    else:\n",
    "        # Recommend a popular song from the top charts\n",
    "        recommendation = top_charts.iloc[0]\n",
    "    \n",
    "    return recommendation\n",
    "\n",
    "# Enter ur song:\n",
    "input_song = input(\"Enter a song: \")\n",
    "\n",
    "#df_popvortex is the DataFrame containing the top charts\n",
    "recommendation = recommend_song(input_song, top100_df)\n",
    "\n",
    "print(\"Recommended Song:\")\n",
    "#print(recommendation)\n",
    "print(recommendation['title'], ' by ', recommendation['artist'])"
   ]
  },
  {
   "cell_type": "code",
   "execution_count": 19,
   "id": "fdf779a4-5a2f-46cc-a28e-72a4d22c84e2",
   "metadata": {},
   "outputs": [],
   "source": [
    "top100_df.to_csv('top_hot_songs.csv', index=False)"
   ]
  },
  {
   "cell_type": "code",
   "execution_count": null,
   "id": "12aa80d6-54d5-4627-a134-dba3f97a980e",
   "metadata": {},
   "outputs": [],
   "source": []
  }
 ],
 "metadata": {
  "kernelspec": {
   "display_name": "Python 3 (ipykernel)",
   "language": "python",
   "name": "python3"
  },
  "language_info": {
   "codemirror_mode": {
    "name": "ipython",
    "version": 3
   },
   "file_extension": ".py",
   "mimetype": "text/x-python",
   "name": "python",
   "nbconvert_exporter": "python",
   "pygments_lexer": "ipython3",
   "version": "3.11.7"
  }
 },
 "nbformat": 4,
 "nbformat_minor": 5
}
