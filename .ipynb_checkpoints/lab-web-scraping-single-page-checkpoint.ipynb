{
 "cells": [
  {
   "cell_type": "code",
   "execution_count": 1,
   "id": "37e9fbae-230d-43f5-82e4-f6c0093bf245",
   "metadata": {},
   "outputs": [],
   "source": [
    "from bs4 import BeautifulSoup\n",
    "import requests\n",
    "import pandas as pd\n"
   ]
  },
  {
   "cell_type": "markdown",
   "id": "e6377f42-0f9c-412a-9303-957160b996df",
   "metadata": {},
   "source": [
    "# lab-web-scraping-single-page"
   ]
  },
  {
   "cell_type": "code",
   "execution_count": 2,
   "id": "6cfdaf22-e06b-4e49-92ba-40f4e4a04415",
   "metadata": {},
   "outputs": [],
   "source": [
    "# URL of the page containing the top 100 songs\n",
    "url = \"http://www.popvortex.com/music/charts/top-100-songs.php\"\n",
    "\n",
    "# Send a GET request to the URL\n",
    "response = requests.get(url)\n",
    "\n"
   ]
  },
  {
   "cell_type": "code",
   "execution_count": 3,
   "id": "d1421377-f35a-48a4-ae44-d28db9988af0",
   "metadata": {},
   "outputs": [],
   "source": [
    "#parse html (create the 'soup')\n",
    "soup = BeautifulSoup(response.content, \"html.parser\")"
   ]
  },
  {
   "cell_type": "code",
   "execution_count": 4,
   "id": "b960243e-512c-4d90-8af1-c0ef673ea17e",
   "metadata": {},
   "outputs": [],
   "source": [
    "#print(soup.prettify())"
   ]
  },
  {
   "cell_type": "code",
   "execution_count": 5,
   "id": "2a722700-c639-449d-8bf7-34acffaa6326",
   "metadata": {},
   "outputs": [],
   "source": [
    "# Find all the div elements containing the song information\n",
    "song_divs = soup.find_all('div', class_='feed-item music-chart flex-row new-release')\n",
    "#song_divs"
   ]
  },
  {
   "cell_type": "code",
   "execution_count": 6,
   "id": "9e66e5e1-12df-4847-81d7-c2ece2664a80",
   "metadata": {},
   "outputs": [
    {
     "data": {
      "text/html": [
       "<div>\n",
       "<style scoped>\n",
       "    .dataframe tbody tr th:only-of-type {\n",
       "        vertical-align: middle;\n",
       "    }\n",
       "\n",
       "    .dataframe tbody tr th {\n",
       "        vertical-align: top;\n",
       "    }\n",
       "\n",
       "    .dataframe thead th {\n",
       "        text-align: right;\n",
       "    }\n",
       "</style>\n",
       "<table border=\"1\" class=\"dataframe\">\n",
       "  <thead>\n",
       "    <tr style=\"text-align: right;\">\n",
       "      <th></th>\n",
       "      <th>Songs</th>\n",
       "      <th>Artist</th>\n",
       "    </tr>\n",
       "  </thead>\n",
       "  <tbody>\n",
       "    <tr>\n",
       "      <th>0</th>\n",
       "      <td>Not Like Us</td>\n",
       "      <td>Kendrick Lamar</td>\n",
       "    </tr>\n",
       "    <tr>\n",
       "      <th>1</th>\n",
       "      <td>A Bar Song (Tipsy)</td>\n",
       "      <td>Shaboozey</td>\n",
       "    </tr>\n",
       "    <tr>\n",
       "      <th>2</th>\n",
       "      <td>meet the grahams</td>\n",
       "      <td>Kendrick Lamar</td>\n",
       "    </tr>\n",
       "    <tr>\n",
       "      <th>3</th>\n",
       "      <td>Where That Came From</td>\n",
       "      <td>Randy Travis</td>\n",
       "    </tr>\n",
       "    <tr>\n",
       "      <th>4</th>\n",
       "      <td>euphoria</td>\n",
       "      <td>Kendrick Lamar</td>\n",
       "    </tr>\n",
       "    <tr>\n",
       "      <th>...</th>\n",
       "      <td>...</td>\n",
       "      <td>...</td>\n",
       "    </tr>\n",
       "    <tr>\n",
       "      <th>95</th>\n",
       "      <td>Dance Before We Walk</td>\n",
       "      <td>August Moon</td>\n",
       "    </tr>\n",
       "    <tr>\n",
       "      <th>96</th>\n",
       "      <td>KICK BACK</td>\n",
       "      <td>Kenshi Yonezu</td>\n",
       "    </tr>\n",
       "    <tr>\n",
       "      <th>97</th>\n",
       "      <td>Something in the Orange (Z&amp;E's Version)</td>\n",
       "      <td>Zach Bryan</td>\n",
       "    </tr>\n",
       "    <tr>\n",
       "      <th>98</th>\n",
       "      <td>Saturn</td>\n",
       "      <td>SZA</td>\n",
       "    </tr>\n",
       "    <tr>\n",
       "      <th>99</th>\n",
       "      <td>I Was Made for Lovin' You</td>\n",
       "      <td>Kiss</td>\n",
       "    </tr>\n",
       "  </tbody>\n",
       "</table>\n",
       "<p>100 rows × 2 columns</p>\n",
       "</div>"
      ],
      "text/plain": [
       "                                      Songs          Artist\n",
       "0                               Not Like Us  Kendrick Lamar\n",
       "1                        A Bar Song (Tipsy)       Shaboozey\n",
       "2                          meet the grahams  Kendrick Lamar\n",
       "3                      Where That Came From    Randy Travis\n",
       "4                                  euphoria  Kendrick Lamar\n",
       "..                                      ...             ...\n",
       "95                     Dance Before We Walk     August Moon\n",
       "96                                KICK BACK   Kenshi Yonezu\n",
       "97  Something in the Orange (Z&E's Version)      Zach Bryan\n",
       "98                                   Saturn             SZA\n",
       "99                I Was Made for Lovin' You            Kiss\n",
       "\n",
       "[100 rows x 2 columns]"
      ]
     },
     "execution_count": 6,
     "metadata": {},
     "output_type": "execute_result"
    }
   ],
   "source": [
    " # Parse the HTML content of the page\n",
    "soup = BeautifulSoup(response.content, 'html.parser')\n",
    "    \n",
    "# Find all the div elements containing the song information\n",
    "song_divs1 = soup.find_all('div', class_='feed-item music-chart flex-row new-release')\n",
    "song_divs2 = soup.find_all('div', class_='feed-item music-chart flex-row')\n",
    "    \n",
    "# Initialize lists to store song names and artists\n",
    "songs = []\n",
    "artists = []\n",
    "    \n",
    "# Extract song names and artists from each div\n",
    "for song_div in song_divs1 + song_divs2:\n",
    "        song_p = song_div.find('p', class_='title-artist')\n",
    "        \n",
    "        # Extract song name and artist if they exist, otherwise append \"Unknown\"\n",
    "        song_name = song_p.find('cite', class_='title').text.strip() if song_p else \"Unknown\"\n",
    "        artist_name = song_p.find('em', class_='artist').text.strip() if song_p else \"Unknown\"\n",
    "        \n",
    "        songs.append(song_name)\n",
    "        artists.append(artist_name)\n",
    "    \n",
    "# Create a pandas DataFrame to store the data\n",
    "df_popvortex = pd.DataFrame({'Songs': songs, 'Artist': artists})\n",
    "    \n",
    "# Print the DataFrame\n",
    "df_popvortex.head(100)"
   ]
  },
  {
   "cell_type": "markdown",
   "id": "90bc6e57-9763-446d-8d98-2d07f8483d98",
   "metadata": {},
   "source": [
    "# lab-web-scraping-multiple-pages"
   ]
  },
  {
   "cell_type": "code",
   "execution_count": 8,
   "id": "0fc7481c-79b4-44c1-9441-c125da5ab5f5",
   "metadata": {},
   "outputs": [
    {
     "name": "stdin",
     "output_type": "stream",
     "text": [
      "Enter a song:  A Bar Song (Tipsy)\n"
     ]
    },
    {
     "name": "stdout",
     "output_type": "stream",
     "text": [
      "Recommended Song:\n",
      "Songs        Not Like Us\n",
      "Artist    Kendrick Lamar\n",
      "Name: 0, dtype: object\n"
     ]
    }
   ],
   "source": [
    "#using a fixed index\n",
    "def recommend_song(input_song, top_charts):\n",
    "    # Check if the input song is in the top charts\n",
    "    if input_song in top_charts['Songs'].values:\n",
    "        # Recommend another song from the top charts\n",
    "        recommendation = top_charts[top_charts['Songs'] != input_song].iloc[0]\n",
    "    else:\n",
    "        # Recommend a popular song from the top charts\n",
    "        recommendation = top_charts.iloc[0]\n",
    "    \n",
    "    return recommendation\n",
    "\n",
    "# Enter ur song:\n",
    "input_song = input(\"Enter a song: \")\n",
    "\n",
    "#df_popvortex is the DataFrame containing the top charts\n",
    "recommendation = recommend_song(input_song, df_popvortex)\n",
    "\n",
    "print(\"Recommended Song:\")\n",
    "print(recommendation)"
   ]
  },
  {
   "cell_type": "code",
   "execution_count": 10,
   "id": "0b56ab51-e755-4eeb-ab9b-6dd17e562e1c",
   "metadata": {},
   "outputs": [
    {
     "name": "stdin",
     "output_type": "stream",
     "text": [
      "Enter a song:  A Bar Song (Tipsy)\n"
     ]
    },
    {
     "name": "stdout",
     "output_type": "stream",
     "text": [
      "Recommended Song:\n",
      "Songs     Hard to Love\n",
      "Artist       Lee Brice\n",
      "Name: 76, dtype: object\n"
     ]
    }
   ],
   "source": [
    "#trying to use index randomly\n",
    "import random\n",
    "def recommend_song(input_song, top_charts):\n",
    "    \n",
    "    # Check if the input song is in the top charts\n",
    "    if input_song in top_charts['Songs'].values:\n",
    "        # Get the index of the input song\n",
    "        input_song_index = top_charts[top_charts['Songs'] == input_song].index[0]\n",
    "\n",
    "        # Exclude the input song index from the available choices\n",
    "        available_indices = top_charts.index[top_charts.index != input_song_index]\n",
    "\n",
    "        # Randomly select an index from the available choices\n",
    "        random_index = random.choice(available_indices)\n",
    "       \n",
    "        # Get the random song recommendation\n",
    "        recommendation = top_charts.loc[random_index]\n",
    "    else:\n",
    "        # Recommend a popular song from the top charts\n",
    "        recommendation = top_charts.iloc[0]\n",
    "    \n",
    "    return recommendation\n",
    "\n",
    "#Enter ur song:\n",
    "input_song = input(\"Enter a song: \")\n",
    "\n",
    "#df_popvortex is the DataFrame containing the top charts\n",
    "recommendation = recommend_song(input_song, df_popvortex)\n",
    "\n",
    "print(\"Recommended Song:\")\n",
    "print(recommendation)\n"
   ]
  },
  {
   "cell_type": "code",
   "execution_count": null,
   "id": "fdf779a4-5a2f-46cc-a28e-72a4d22c84e2",
   "metadata": {},
   "outputs": [],
   "source": []
  }
 ],
 "metadata": {
  "kernelspec": {
   "display_name": "Python 3 (ipykernel)",
   "language": "python",
   "name": "python3"
  },
  "language_info": {
   "codemirror_mode": {
    "name": "ipython",
    "version": 3
   },
   "file_extension": ".py",
   "mimetype": "text/x-python",
   "name": "python",
   "nbconvert_exporter": "python",
   "pygments_lexer": "ipython3",
   "version": "3.11.7"
  }
 },
 "nbformat": 4,
 "nbformat_minor": 5
}
