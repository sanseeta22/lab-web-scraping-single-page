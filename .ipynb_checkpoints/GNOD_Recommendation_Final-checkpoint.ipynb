{
 "cells": [
  {
   "cell_type": "markdown",
   "id": "ae77d500-53aa-4061-a720-82a9f6498eaa",
   "metadata": {},
   "source": [
    "# Final Part - Building recommendation to a song\n"
   ]
  },
  {
   "cell_type": "code",
   "execution_count": 44,
   "id": "e426bd80-3d81-4455-93fd-a3cc6971748a",
   "metadata": {},
   "outputs": [],
   "source": [
    " #importing libraries\n",
    "import pandas as pd\n",
    "from pandas import json_normalize\n",
    "import spotipy \n",
    "from spotipy.oauth2 import SpotifyClientCredentials\n",
    "import pickle\n",
    "import joblib\n",
    "from sklearn.preprocessing import StandardScaler"
   ]
  },
  {
   "cell_type": "code",
   "execution_count": 45,
   "id": "5ac11413-d691-4b86-b996-5f6b708d453b",
   "metadata": {},
   "outputs": [],
   "source": [
    "#Importing the top 100 song playlist and larger set of songs with the audio features\n",
    "\n",
    "top100_df = pd.read_csv('top_hot_songs.csv')\n",
    "larger_set_songs= pd.read_csv('clustered_songs.csv')"
   ]
  },
  {
   "cell_type": "code",
   "execution_count": 49,
   "id": "2c42b126-1576-404d-a8c1-b0e9b6a1fa99",
   "metadata": {},
   "outputs": [
    {
     "name": "stdout",
     "output_type": "stream",
     "text": [
      "Hey, want some music recommendations? I'm here to help!\n"
     ]
    },
    {
     "name": "stdin",
     "output_type": "stream",
     "text": [
      "Enter a song title:  Arabic Kuthu\n",
      "Enter the name of the artist:  Nelson\n"
     ]
    },
    {
     "name": "stdout",
     "output_type": "stream",
     "text": [
      "You should check out:\n",
      "Rich Girl  by  Daryl Hall & John Oates\n"
     ]
    },
    {
     "name": "stderr",
     "output_type": "stream",
     "text": [
      "/opt/anaconda3/lib/python3.11/site-packages/sklearn/base.py:432: UserWarning: X has feature names, but KMeans was fitted without feature names\n",
      "  warnings.warn(\n"
     ]
    }
   ],
   "source": [
    "# Load Spotify credentials\n",
    "secrets_file = open(\"secrets.txt\",\"r\") \n",
    "string = secrets_file.read()\n",
    "\n",
    "secrets_dict={}\n",
    "for line in string.split('\\n'):\n",
    "    if len(line) > 0:\n",
    "        secrets_dict[line.split(':')[0]] = line.split(':')[1].strip()\n",
    "\n",
    "sp = spotipy.Spotify(auth_manager=SpotifyClientCredentials(client_id=secrets_dict['clientid'],\n",
    "                                                           client_secret=secrets_dict['clientsecret']))\n",
    "\n",
    "# User input\n",
    "print(\"Hey, want some music recommendations? I'm here to help!\")\n",
    "song = input(\"Enter a song title: \").strip().lower()\n",
    "artist = input(\"Enter the name of the artist: \").strip().lower()\n",
    "\n",
    "# Search for user input song\n",
    "user_result = sp.search(artist + \" \" + song, type=\"track\", limit=1)\n",
    "tracks = json_normalize(user_result[\"tracks\"][\"items\"])\n",
    "\n",
    "if not tracks.empty:\n",
    "    \n",
    "    # If the song is in the hot songs list,select any random song from the top 100 songs\n",
    "    if (song in top100_df['title'].str.lower().values) and (artist in top100_df['artist'].str.lower().values):\n",
    "        random = top100_df.sample()\n",
    "        random_result = sp.search(q=f\"artist:{random['artist'].values[0]} track:{random['title'].values[0]}\", type=\"track\", limit=1)\n",
    "        random_song = json_normalize(random_result[\"tracks\"][\"items\"])\n",
    "        print(\"Check out this hot song: \")\n",
    "        print(random['title'].values[0], ' by ', random['artist'].values[0])\n",
    "        \n",
    "    else:\n",
    "        # Extract audio features of the song from spotify\n",
    "        audio_features_list = sp.audio_features(tracks['id'][0])\n",
    "        audio_features_df = json_normalize(audio_features_list)\n",
    "        popularity_features_df = pd.concat([tracks[\"popularity\"], audio_features_df], axis=1)\n",
    "        num_df = popularity_features_df.select_dtypes('number')\n",
    "        \n",
    "        # Scale and predict cluster\n",
    "        scale = pickle.load(open('scaler_model.pkl','rb'))\n",
    "        num_scaled = scale.transform(num_df)\n",
    "        data_scaled = pd.DataFrame(num_scaled, columns=num_df.columns)\n",
    "        model = pickle.load(open('clustering_model.pkl','rb'))\n",
    "        user_cluster = model.predict(data_scaled)[0]\n",
    "        \n",
    "        # Recommend a random song from the same cluster\n",
    "        songs_cluster = larger_set_songs[larger_set_songs[\"cluster\"]==user_cluster]\n",
    "        random = songs_cluster.sample()\n",
    "        print(\"You should check out:\")\n",
    "        print(random['song_name'].values[0], ' by ', random['name'].values[0])\n",
    "else:\n",
    "    print('Sorry,try another song')"
   ]
  },
  {
   "cell_type": "code",
   "execution_count": null,
   "id": "f93231e0-b355-4d03-a3ab-a28393d25d45",
   "metadata": {},
   "outputs": [],
   "source": []
  }
 ],
 "metadata": {
  "kernelspec": {
   "display_name": "Python 3 (ipykernel)",
   "language": "python",
   "name": "python3"
  },
  "language_info": {
   "codemirror_mode": {
    "name": "ipython",
    "version": 3
   },
   "file_extension": ".py",
   "mimetype": "text/x-python",
   "name": "python",
   "nbconvert_exporter": "python",
   "pygments_lexer": "ipython3",
   "version": "3.11.7"
  }
 },
 "nbformat": 4,
 "nbformat_minor": 5
}
